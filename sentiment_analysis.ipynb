{
  "nbformat": 4,
  "nbformat_minor": 0,
  "metadata": {
    "colab": {
      "provenance": []
    },
    "kernelspec": {
      "name": "python3",
      "display_name": "Python 3"
    },
    "language_info": {
      "name": "python"
    }
  },
  "cells": [
    {
      "cell_type": "code",
      "execution_count": null,
      "metadata": {
        "colab": {
          "base_uri": "https://localhost:8080/"
        },
        "id": "6ltnygGfQDdG",
        "outputId": "70189449-d4f7-4966-9c3d-36754799168c"
      },
      "outputs": [
        {
          "output_type": "stream",
          "name": "stdout",
          "text": [
            "Requirement already satisfied: pyspark in /usr/local/lib/python3.11/dist-packages (3.5.1)\n",
            "Requirement already satisfied: py4j==0.10.9.7 in /usr/local/lib/python3.11/dist-packages (from pyspark) (0.10.9.7)\n"
          ]
        }
      ],
      "source": [
        "!pip install pyspark\n"
      ]
    },
    {
      "cell_type": "code",
      "source": [
        "from google.colab import drive\n",
        "drive.mount('/content/drive')\n"
      ],
      "metadata": {
        "colab": {
          "base_uri": "https://localhost:8080/"
        },
        "id": "bJ5pLfvenYue",
        "outputId": "022a98a2-5b48-423f-bd12-e0a0fa4bee36"
      },
      "execution_count": null,
      "outputs": [
        {
          "output_type": "stream",
          "name": "stdout",
          "text": [
            "Drive already mounted at /content/drive; to attempt to forcibly remount, call drive.mount(\"/content/drive\", force_remount=True).\n"
          ]
        }
      ]
    },
    {
      "cell_type": "code",
      "source": [
        "!find /content/drive/MyDrive -type f -iname \"*rerview.csv\"\n"
      ],
      "metadata": {
        "id": "lbolAPxooum_"
      },
      "execution_count": null,
      "outputs": []
    },
    {
      "cell_type": "code",
      "source": [
        "!find /content/drive/MyDrive -type f -iname \"*review*\"\n"
      ],
      "metadata": {
        "colab": {
          "base_uri": "https://localhost:8080/"
        },
        "id": "zeyaaFcKpvHH",
        "outputId": "572df90a-31d5-4d60-f0fc-ffb9cb63e436"
      },
      "execution_count": null,
      "outputs": [
        {
          "output_type": "stream",
          "name": "stdout",
          "text": [
            "/content/drive/MyDrive/Colab Notebooks/GitHubProjects/pyspark-sentiment-analysis/data/Reviews.csv\n"
          ]
        }
      ]
    },
    {
      "cell_type": "code",
      "source": [
        "df = spark.read.csv(\"/content/drive/MyDrive/Colab Notebooks/GitHubProjects/pyspark-sentiment-analysis/data/Reviews.csv\", header=True, inferSchema=True)\n",
        "df.show(5)"
      ],
      "metadata": {
        "colab": {
          "base_uri": "https://localhost:8080/"
        },
        "id": "oablrwRsp7v4",
        "outputId": "9a2d242c-a1a7-4ff5-cff3-c75e0ca642a1"
      },
      "execution_count": null,
      "outputs": [
        {
          "output_type": "stream",
          "name": "stdout",
          "text": [
            "+-----------------------------------------------------------------------------------------------------------------------------------------------------------------------------------------------------------------------------------------------------------------------------------------------------------+\n",
            "|PK\u0003\u0004-\u0000\u0000\u0000\\b\u0000�\u00163O�fJ���������\\v\u0000\u0014\u0000Reviews.csv\u0001\u0000\u0010\u0000�p�\u0011\u0000\u0000\u0000\u0000�\u0000(\\a\u0000\u0000\u0000\u0000���z�؎&x\u001fOAk����a(u>쮩�$Y���\u001c�l�}GI��4E�I*�ʇ���\u0017\u001b�\u0000�\"�����bzn�2kg�-���\u0005�\u0000~`M7�}\u0012o\u000e���������5\\b�;o绗~�=����w���xY�\u0014x�G�.��ǋu���2��-\u000e����ܥ�W���\u000ek���u=��������ew�p�лxr7~H\u001f�\u0002/r��Oۭ7k�^�Ѫ�܋8�8�\u000f^\u0018d'�<~s&�\u0003w�l�����\u000fo��I��4�Љ_�l�;�A&\u001f_{Q�o�|\n",
            "+-----------------------------------------------------------------------------------------------------------------------------------------------------------------------------------------------------------------------------------------------------------------------------------------------------------+\n",
            "|                                                                                                                                                                                                                                                                                       }�\u0015���$Sǋ6����@�...|\n",
            "|                                                                                                                                                                                                                                                                                                       NULL|\n",
            "|                                                                                                                                                                                                                                                                                       >�V~H���]\u001dv��YxaF...|\n",
            "|                                                                                                                                                                                                                                                                                       �]˭7��Z\u001d���\u000f��0 �...|\n",
            "|                                                                                                                                                                                                                                                                                       D���C���\u001d�&�>\\t-&...|\n",
            "+-----------------------------------------------------------------------------------------------------------------------------------------------------------------------------------------------------------------------------------------------------------------------------------------------------------+\n",
            "only showing top 5 rows\n",
            "\n"
          ]
        }
      ]
    },
    {
      "cell_type": "code",
      "source": [
        "df.show()\n"
      ],
      "metadata": {
        "colab": {
          "base_uri": "https://localhost:8080/"
        },
        "id": "o3YyCJMlyrlm",
        "outputId": "53eb14f5-1219-4b43-ad0e-a16dc3b03a7a"
      },
      "execution_count": null,
      "outputs": [
        {
          "output_type": "stream",
          "name": "stdout",
          "text": [
            "+-----------------------------------------------------------------------------------------------------------------------------------------------------------------------------------------------------------------------------------------------------------------------------------------------------------+\n",
            "|PK\u0003\u0004-\u0000\u0000\u0000\\b\u0000�\u00163O�fJ���������\\v\u0000\u0014\u0000Reviews.csv\u0001\u0000\u0010\u0000�p�\u0011\u0000\u0000\u0000\u0000�\u0000(\\a\u0000\u0000\u0000\u0000���z�؎&x\u001fOAk����a(u>쮩�$Y���\u001c�l�}GI��4E�I*�ʇ���\u0017\u001b�\u0000�\"�����bzn�2kg�-���\u0005�\u0000~`M7�}\u0012o\u000e���������5\\b�;o绗~�=����w���xY�\u0014x�G�.��ǋu���2��-\u000e����ܥ�W���\u000ek���u=��������ew�p�лxr7~H\u001f�\u0002/r��Oۭ7k�^�Ѫ�܋8�8�\u000f^\u0018d'�<~s&�\u0003w�l�����\u000fo��I��4�Љ_�l�;�A&\u001f_{Q�o�|\n",
            "+-----------------------------------------------------------------------------------------------------------------------------------------------------------------------------------------------------------------------------------------------------------------------------------------------------------+\n",
            "|                                                                                                                                                                                                                                                                                       }�\u0015���$Sǋ6����@�...|\n",
            "|                                                                                                                                                                                                                                                                                                       NULL|\n",
            "|                                                                                                                                                                                                                                                                                       >�V~H���]\u001dv��YxaF...|\n",
            "|                                                                                                                                                                                                                                                                                       �]˭7��Z\u001d���\u000f��0 �...|\n",
            "|                                                                                                                                                                                                                                                                                       D���C���\u001d�&�>\\t-&...|\n",
            "|                                                                                                                                                                                                                                                                                      [��JD��.fq쬷����KH...|\n",
            "|                                                                                                                                                                                                                                                                                       ��\u0011��s�o�u\u0010�na�P'...|\n",
            "|                                                                                                                                                                                                                                                                                       �\u0012���df^X����t�\u001b/...|\n",
            "|                                                                                                                                                                                                                                                                                       ��]�v�\u001c^��y��'�R�...|\n",
            "|                                                                                                                                                                                                                                                                                       c��ke�s6>M���S���...|\n",
            "|                                                                                                                                                                                                                                                                                       ��;�\u001f\u0002\u00044�o�~��>�q...|\n",
            "|                                                                                                                                                                                                                                                                                       V�$�c�6���F\u0004#�6\u0001�...|\n",
            "|                                                                                                                                                                                                                                                                                       ߀� 2$\u001er\u001a��N\u00181N%>}...|\n",
            "|                                                                                                                                                                                                                                                                                       j�~a�\\y�\\tk�|�0�\u001c...|\n",
            "|                                                                                                                                                                                                                                                                                       ^��ɇr�T��\u001bЭ\u000f�\u001f\\a�...|\n",
            "|                                                                                                                                                                                                                                                                                       �ɶ\\ta����N�:K\u0015��...|\n",
            "|                                                                                                                                                                                                                                                                                       \u0004!H�������<\"���6...|\n",
            "|                                                                                                                                                                                                                                                                                       ��q M���=�H\u0017��\u001aƩ�...|\n",
            "|                                                                                                                                                                                                                                                                                       ����M\\b�m<߹g����\u0019...|\n",
            "|                                                                                                                                                                                                                                                                                       \u0011Z\u001fߓ���8�SB��� �\u0018...|\n",
            "+-----------------------------------------------------------------------------------------------------------------------------------------------------------------------------------------------------------------------------------------------------------------------------------------------------------+\n",
            "only showing top 20 rows\n",
            "\n"
          ]
        }
      ]
    },
    {
      "cell_type": "code",
      "source": [
        "# Print the schema to understand structure\n",
        "df.printSchema()"
      ],
      "metadata": {
        "colab": {
          "base_uri": "https://localhost:8080/"
        },
        "id": "7fNs7VFS2Wku",
        "outputId": "710b24fb-2211-4dda-aece-ce98b30e7cb3"
      },
      "execution_count": null,
      "outputs": [
        {
          "output_type": "stream",
          "name": "stdout",
          "text": [
            "root\n",
            " |-- PK\u0003\u0004-\u0000\u0000\u0000\\b\u0000�\u00163O�fJ���������\\v\u0000\u0014\u0000Reviews.csv\u0001\u0000\u0010\u0000�p�\u0011\u0000\u0000\u0000\u0000�\u0000(\\a\u0000\u0000\u0000\u0000���z�؎&x\u001fOAk����a(u>쮩�$Y���\u001c�l�}GI��4E�I*�ʇ���\u0017\u001b�\u0000�\"�����bzn�2kg�-���\u0005�\u0000~`M7�}\u0012o\u000e���������5\\b�;o绗~�=����w���xY�\u0014x�G�.��ǋu���2��-\u000e����ܥ�W���\u000ek���u=��������ew�p�лxr7~H\u001f�\u0002/r��Oۭ7k�^�Ѫ�܋8�8�\u000f^\u0018d'�<~s&�\u0003w�l�����\u000fo��I��4�Љ_�l�;�A&\u001f_{Q�o�: string (nullable = true)\n",
            "\n"
          ]
        }
      ]
    },
    {
      "cell_type": "code",
      "source": [
        "df.columns\n"
      ],
      "metadata": {
        "colab": {
          "base_uri": "https://localhost:8080/"
        },
        "id": "GAIAD8Hu2xRL",
        "outputId": "e16d3ea3-04b6-4845-ca5e-6e767df9e9e7"
      },
      "execution_count": null,
      "outputs": [
        {
          "output_type": "execute_result",
          "data": {
            "text/plain": [
              "['PK\\x03\\x04-\\x00\\x00\\x00\\x08\\x00�\\x163O�fJ���������\\x0b\\x00\\x14\\x00Reviews.csv\\x01\\x00\\x10\\x00�p�\\x11\\x00\\x00\\x00\\x00�\\x00(\\x07\\x00\\x00\\x00\\x00���z�؎&x\\x1fOAk����a(u>쮩�$Y���\\x1c�l�}GI��4E�I*�ʇ���\\x17\\x1b�\\x00�\"�����bzn�2kg�-���\\x05�\\x00~`M7�}\\x12o\\x0e���������5\\x08�;o绗~�\\x7f=����w���xY�\\x14\\x7fx�G�.��ǋu���2��-\\x0e����ܥ�W���\\x0ek���u=��������ew�p�лxr7~H\\x1f�\\x02/r��Oۭ7k�^�Ѫ�܋8�8�\\x0f^\\x18d\\'�<~s&�\\x03w�l�����\\x0fo��I��4�Љ_�l�;�A&\\x1f_{Q�o�']"
            ]
          },
          "metadata": {},
          "execution_count": 44
        }
      ]
    },
    {
      "cell_type": "code",
      "source": [
        "from pyspark.sql import SparkSession\n",
        "spark = SparkSession.builder.appName(\"SentimentAnalysis\").getOrCreate()\n",
        "\n",
        "df = spark.read.csv(\"/content/drive/MyDrive/Colab Notebooks/GitHubProjects/pyspark-sentiment-analysis/data/Reviews.csv\",\n",
        "                    header=True,\n",
        "                    inferSchema=True)\n",
        "\n",
        "df.printSchema()\n"
      ],
      "metadata": {
        "colab": {
          "base_uri": "https://localhost:8080/"
        },
        "id": "4-7pWbm73WHw",
        "outputId": "3f929085-c30f-48fd-d71e-c7a1e3cb8a02"
      },
      "execution_count": null,
      "outputs": [
        {
          "output_type": "stream",
          "name": "stdout",
          "text": [
            "root\n",
            " |-- PK\u0003\u0004-\u0000\u0000\u0000\\b\u0000�\u00163O�fJ���������\\v\u0000\u0014\u0000Reviews.csv\u0001\u0000\u0010\u0000�p�\u0011\u0000\u0000\u0000\u0000�\u0000(\\a\u0000\u0000\u0000\u0000���z�؎&x\u001fOAk����a(u>쮩�$Y���\u001c�l�}GI��4E�I*�ʇ���\u0017\u001b�\u0000�\"�����bzn�2kg�-���\u0005�\u0000~`M7�}\u0012o\u000e���������5\\b�;o绗~�=����w���xY�\u0014x�G�.��ǋu���2��-\u000e����ܥ�W���\u000ek���u=��������ew�p�лxr7~H\u001f�\u0002/r��Oۭ7k�^�Ѫ�܋8�8�\u000f^\u0018d'�<~s&�\u0003w�l�����\u000fo��I��4�Љ_�l�;�A&\u001f_{Q�o�: string (nullable = true)\n",
            "\n"
          ]
        }
      ]
    },
    {
      "cell_type": "code",
      "source": [
        "from pyspark.sql import SparkSession\n",
        "\n",
        "# Start Spark session\n",
        "spark = SparkSession.builder.appName(\"SentimentAnalysis\").getOrCreate()\n",
        "\n",
        "# Load your CSV using the correct path\n",
        "df = spark.read.csv(\"/content/drive/MyDrive/Colab Notebooks/GitHubProjects/pyspark-sentiment-analysis/data/Reviews.csv\",\n",
        "                    header=True,\n",
        "                    inferSchema=True)\n",
        "\n",
        "# Preview the schema and top rows\n",
        "df.printSchema()\n",
        "df.show(5, truncate=100)\n"
      ],
      "metadata": {
        "colab": {
          "base_uri": "https://localhost:8080/"
        },
        "id": "7A5JHSyv4I4k",
        "outputId": "55c3039a-d8e8-4242-9f60-8ae2d735efd1"
      },
      "execution_count": null,
      "outputs": [
        {
          "output_type": "stream",
          "name": "stdout",
          "text": [
            "root\n",
            " |-- PK\u0003\u0004-\u0000\u0000\u0000\\b\u0000�\u00163O�fJ���������\\v\u0000\u0014\u0000Reviews.csv\u0001\u0000\u0010\u0000�p�\u0011\u0000\u0000\u0000\u0000�\u0000(\\a\u0000\u0000\u0000\u0000���z�؎&x\u001fOAk����a(u>쮩�$Y���\u001c�l�}GI��4E�I*�ʇ���\u0017\u001b�\u0000�\"�����bzn�2kg�-���\u0005�\u0000~`M7�}\u0012o\u000e���������5\\b�;o绗~�=����w���xY�\u0014x�G�.��ǋu���2��-\u000e����ܥ�W���\u000ek���u=��������ew�p�лxr7~H\u001f�\u0002/r��Oۭ7k�^�Ѫ�܋8�8�\u000f^\u0018d'�<~s&�\u0003w�l�����\u000fo��I��4�Љ_�l�;�A&\u001f_{Q�o�: string (nullable = true)\n",
            "\n",
            "+-----------------------------------------------------------------------------------------------------------------------------------------------------------------------------------------------------------------------------------------------------------------------------------------------------------+\n",
            "|PK\u0003\u0004-\u0000\u0000\u0000\\b\u0000�\u00163O�fJ���������\\v\u0000\u0014\u0000Reviews.csv\u0001\u0000\u0010\u0000�p�\u0011\u0000\u0000\u0000\u0000�\u0000(\\a\u0000\u0000\u0000\u0000���z�؎&x\u001fOAk����a(u>쮩�$Y���\u001c�l�}GI��4E�I*�ʇ���\u0017\u001b�\u0000�\"�����bzn�2kg�-���\u0005�\u0000~`M7�}\u0012o\u000e���������5\\b�;o绗~�=����w���xY�\u0014x�G�.��ǋu���2��-\u000e����ܥ�W���\u000ek���u=��������ew�p�лxr7~H\u001f�\u0002/r��Oۭ7k�^�Ѫ�܋8�8�\u000f^\u0018d'�<~s&�\u0003w�l�����\u000fo��I��4�Љ_�l�;�A&\u001f_{Q�o�|\n",
            "+-----------------------------------------------------------------------------------------------------------------------------------------------------------------------------------------------------------------------------------------------------------------------------------------------------------+\n",
            "|                                                                                                                                                                                                                                                                                   }�\u0015���$Sǋ6����@�/�\u001c/\\f�|\n",
            "|                                                                                                                                                                                                                                                                                                       NULL|\n",
            "|                                                                                                                                                                                                     >�V~H���]\u001dv��YxaF���营�j\u0015뼗�9G�\u0016�[g�\\��&��L�����(�/V\u001d�4=���W����68~��*`!d�~�\u0011/K��\u001f�\\t�#�O���Q�\u001f0�A...|\n",
            "|                                                                                                                                                                                                                                                                               �]˭7��Z\u001d���\u000f��0 ��T��;��G�Xŭ|\n",
            "|                                                                                                                                                                                                                                                  D���C���\u001d�&�>\\t-&��XG��\u0015�\u0006m�:�����}|�Ю��\u001d�<\u0012���<y�.>d[:�8|\n",
            "+-----------------------------------------------------------------------------------------------------------------------------------------------------------------------------------------------------------------------------------------------------------------------------------------------------------+\n",
            "only showing top 5 rows\n",
            "\n"
          ]
        }
      ]
    },
    {
      "cell_type": "code",
      "source": [
        "!file \"/content/drive/MyDrive/Colab Notebooks/GitHubProjects/pyspark-sentiment-analysis/data/Reviews.csv\""
      ],
      "metadata": {
        "colab": {
          "base_uri": "https://localhost:8080/"
        },
        "id": "_twupWYa8pFC",
        "outputId": "94714ca1-1651-4c83-aea1-b059b0efe2e6"
      },
      "execution_count": null,
      "outputs": [
        {
          "output_type": "stream",
          "name": "stdout",
          "text": [
            "/content/drive/MyDrive/Colab Notebooks/GitHubProjects/pyspark-sentiment-analysis/data/Reviews.csv: Zip archive data, at least v4.5 to extract, compression method=deflate\n"
          ]
        }
      ]
    },
    {
      "cell_type": "code",
      "source": [
        "!unzip \"/content/drive/MyDrive/Colab Notebooks/GitHubProjects/pyspark-sentiment-analysis/data/Reviews.csv\" -d \"/content/drive/MyDrive/Colab Notebooks/GitHubProjects/pyspark-sentiment-analysis/data/\"\n"
      ],
      "metadata": {
        "colab": {
          "base_uri": "https://localhost:8080/"
        },
        "id": "QLZwOZrW8w2i",
        "outputId": "0973f069-4f8a-4f83-fa39-9de904951b65"
      },
      "execution_count": null,
      "outputs": [
        {
          "output_type": "stream",
          "name": "stdout",
          "text": [
            "Archive:  /content/drive/MyDrive/Colab Notebooks/GitHubProjects/pyspark-sentiment-analysis/data/Reviews.csv\n",
            "  End-of-central-directory signature not found.  Either this file is not\n",
            "  a zipfile, or it constitutes one disk of a multi-part archive.  In the\n",
            "  latter case the central directory and zipfile comment will be found on\n",
            "  the last disk(s) of this archive.\n",
            "unzip:  cannot find zipfile directory in one of /content/drive/MyDrive/Colab Notebooks/GitHubProjects/pyspark-sentiment-analysis/data/Reviews.csv or\n",
            "        /content/drive/MyDrive/Colab Notebooks/GitHubProjects/pyspark-sentiment-analysis/data/Reviews.csv.zip, and cannot find /content/drive/MyDrive/Colab Notebooks/GitHubProjects/pyspark-sentiment-analysis/data/Reviews.csv.ZIP, period.\n"
          ]
        }
      ]
    },
    {
      "cell_type": "code",
      "source": [
        "!ls \"/content/drive/MyDrive/Colab Notebooks/GitHubProjects/pyspark-sentiment-analysis/data/\"\n"
      ],
      "metadata": {
        "colab": {
          "base_uri": "https://localhost:8080/"
        },
        "id": "-PB01VJr89Jh",
        "outputId": "e35b2409-a462-491d-e694-92f7f7f11df7"
      },
      "execution_count": null,
      "outputs": [
        {
          "output_type": "stream",
          "name": "stdout",
          "text": [
            " Reviews.csv  'Unconfirmed 118253.crdownload'\n"
          ]
        }
      ]
    },
    {
      "cell_type": "code",
      "source": [
        "df = spark.read.csv(\"/content/drive/MyDrive/Colab Notebooks/GitHubProjects/pyspark-sentiment-analysis/data/Reviews.csv\",\n",
        "                    header=True,\n",
        "                    inferSchema=True)\n",
        "\n",
        "df.show(5, truncate=100)\n"
      ],
      "metadata": {
        "colab": {
          "base_uri": "https://localhost:8080/"
        },
        "id": "2MfdKjsK-J66",
        "outputId": "53d732be-e0b8-459b-a13b-416edee09f46"
      },
      "execution_count": null,
      "outputs": [
        {
          "output_type": "stream",
          "name": "stdout",
          "text": [
            "+-----------------------------------------------------------------------------------------------------------------------------------------------------------------------------------------------------------------------------------------------------------------------------------------------------------+\n",
            "|PK\u0003\u0004-\u0000\u0000\u0000\\b\u0000�\u00163O�fJ���������\\v\u0000\u0014\u0000Reviews.csv\u0001\u0000\u0010\u0000�p�\u0011\u0000\u0000\u0000\u0000�\u0000(\\a\u0000\u0000\u0000\u0000���z�؎&x\u001fOAk����a(u>쮩�$Y���\u001c�l�}GI��4E�I*�ʇ���\u0017\u001b�\u0000�\"�����bzn�2kg�-���\u0005�\u0000~`M7�}\u0012o\u000e���������5\\b�;o绗~�=����w���xY�\u0014x�G�.��ǋu���2��-\u000e����ܥ�W���\u000ek���u=��������ew�p�лxr7~H\u001f�\u0002/r��Oۭ7k�^�Ѫ�܋8�8�\u000f^\u0018d'�<~s&�\u0003w�l�����\u000fo��I��4�Љ_�l�;�A&\u001f_{Q�o�|\n",
            "+-----------------------------------------------------------------------------------------------------------------------------------------------------------------------------------------------------------------------------------------------------------------------------------------------------------+\n",
            "|                                                                                                                                                                                                                                                                                   }�\u0015���$Sǋ6����@�/�\u001c/\\f�|\n",
            "|                                                                                                                                                                                                                                                                                                       NULL|\n",
            "|                                                                                                                                                                                                     >�V~H���]\u001dv��YxaF���营�j\u0015뼗�9G�\u0016�[g�\\��&��L�����(�/V\u001d�4=���W����68~��*`!d�~�\u0011/K��\u001f�\\t�#�O���Q�\u001f0�A...|\n",
            "|                                                                                                                                                                                                                                                                               �]˭7��Z\u001d���\u000f��0 ��T��;��G�Xŭ|\n",
            "|                                                                                                                                                                                                                                                  D���C���\u001d�&�>\\t-&��XG��\u0015�\u0006m�:�����}|�Ю��\u001d�<\u0012���<y�.>d[:�8|\n",
            "+-----------------------------------------------------------------------------------------------------------------------------------------------------------------------------------------------------------------------------------------------------------------------------------------------------------+\n",
            "only showing top 5 rows\n",
            "\n"
          ]
        }
      ]
    },
    {
      "cell_type": "code",
      "source": [
        "df.printSchema()\n"
      ],
      "metadata": {
        "colab": {
          "base_uri": "https://localhost:8080/"
        },
        "id": "QD3NN1LrA8R-",
        "outputId": "e22608c7-89a2-4a81-a3aa-8dd7e6e3806b"
      },
      "execution_count": null,
      "outputs": [
        {
          "output_type": "stream",
          "name": "stdout",
          "text": [
            "root\n",
            " |-- PK\u0003\u0004-\u0000\u0000\u0000\\b\u0000�\u00163O�fJ���������\\v\u0000\u0014\u0000Reviews.csv\u0001\u0000\u0010\u0000�p�\u0011\u0000\u0000\u0000\u0000�\u0000(\\a\u0000\u0000\u0000\u0000���z�؎&x\u001fOAk����a(u>쮩�$Y���\u001c�l�}GI��4E�I*�ʇ���\u0017\u001b�\u0000�\"�����bzn�2kg�-���\u0005�\u0000~`M7�}\u0012o\u000e���������5\\b�;o绗~�=����w���xY�\u0014x�G�.��ǋu���2��-\u000e����ܥ�W���\u000ek���u=��������ew�p�лxr7~H\u001f�\u0002/r��Oۭ7k�^�Ѫ�܋8�8�\u000f^\u0018d'�<~s&�\u0003w�l�����\u000fo��I��4�Љ_�l�;�A&\u001f_{Q�o�: string (nullable = true)\n",
            "\n"
          ]
        }
      ]
    },
    {
      "cell_type": "markdown",
      "source": [
        "!ls -lh \"/content/drive/MyDrive/Colab Notebooks/GitHubProjects/pyspark-sentiment-analysis/data/\"\n"
      ],
      "metadata": {
        "id": "cSsERy5sBpWL"
      }
    },
    {
      "cell_type": "code",
      "source": [
        "!ls -lh \"/content/drive/MyDrive/Colab Notebooks/GitHubProjects/pyspark-sentiment-analysis/data/\"\n"
      ],
      "metadata": {
        "colab": {
          "base_uri": "https://localhost:8080/"
        },
        "id": "rcIvRI4zFgKB",
        "outputId": "dad7ac6a-cce5-4d8d-aba8-d1d7a0856640"
      },
      "execution_count": null,
      "outputs": [
        {
          "output_type": "stream",
          "name": "stdout",
          "text": [
            "total 361M\n",
            "-rw------- 1 root root 287M Jun 24 17:46  Reviews.csv\n",
            "-rw------- 1 root root  74M Jun 24 14:10 'Unconfirmed 118253.crdownload'\n"
          ]
        }
      ]
    },
    {
      "cell_type": "code",
      "source": [
        "df = spark.read.csv(\"/content/drive/MyDrive/Colab Notebooks/GitHubProjects/pyspark-sentiment-analysis/data/Reviews.csv\",\n",
        "                    header=True,\n",
        "                    inferSchema=True)\n",
        "\n",
        "df.printSchema()\n",
        "df.show(5, truncate=100)\n"
      ],
      "metadata": {
        "colab": {
          "base_uri": "https://localhost:8080/"
        },
        "id": "bLubD1SLFo0z",
        "outputId": "28fb3c38-30e1-41e2-d465-2cd7e5bcf2a8"
      },
      "execution_count": null,
      "outputs": [
        {
          "output_type": "stream",
          "name": "stdout",
          "text": [
            "root\n",
            " |-- Id: integer (nullable = true)\n",
            " |-- ProductId: string (nullable = true)\n",
            " |-- UserId: string (nullable = true)\n",
            " |-- ProfileName: string (nullable = true)\n",
            " |-- HelpfulnessNumerator: string (nullable = true)\n",
            " |-- HelpfulnessDenominator: string (nullable = true)\n",
            " |-- Score: string (nullable = true)\n",
            " |-- Time: string (nullable = true)\n",
            " |-- Summary: string (nullable = true)\n",
            " |-- Text: string (nullable = true)\n",
            "\n",
            "+---+----------+--------------+-----------------------------------+--------------------+----------------------+-----+----------+-------------------------+----------------------------------------------------------------------------------------------------+\n",
            "| Id| ProductId|        UserId|                        ProfileName|HelpfulnessNumerator|HelpfulnessDenominator|Score|      Time|                  Summary|                                                                                                Text|\n",
            "+---+----------+--------------+-----------------------------------+--------------------+----------------------+-----+----------+-------------------------+----------------------------------------------------------------------------------------------------+\n",
            "|  1|B001E4KFG0|A3SGXH7AUHU8GW|                         delmartian|                   1|                     1|    5|1303862400|    Good Quality Dog Food|I have bought several of the Vitality canned dog food products and have found them all to be of g...|\n",
            "|  2|B00813GRG4|A1D87F6ZCVE5NK|                             dll pa|                   0|                     0|    1|1346976000|        Not as Advertised|\"Product arrived labeled as Jumbo Salted Peanuts...the peanuts were actually small sized unsalted...|\n",
            "|  3|B000LQOCH0| ABXLMWJIXXAIN|\"Natalia Corres \"\"Natalia Corres\"\"\"|                   1|                     1|    4|1219017600|\"\"\"Delight\"\" says it all\"|\"This is a confection that has been around a few centuries.  It is a light, pillowy citrus gelati...|\n",
            "|  4|B000UA0QIQ|A395BORC6FGVXV|                               Karl|                   3|                     3|    2|1307923200|           Cough Medicine|If you are looking for the secret ingredient in Robitussin I believe I have found it.  I got this...|\n",
            "|  5|B006K2ZZ7K|A1UQRSCLF8GW1T|  \"Michael D. Bigham \"\"M. Wassir\"\"\"|                   0|                     0|    5|1350777600|              Great taffy|Great taffy at a great price.  There was a wide assortment of yummy taffy.  Delivery was very qui...|\n",
            "+---+----------+--------------+-----------------------------------+--------------------+----------------------+-----+----------+-------------------------+----------------------------------------------------------------------------------------------------+\n",
            "only showing top 5 rows\n",
            "\n"
          ]
        }
      ]
    },
    {
      "cell_type": "code",
      "source": [
        "# Drop missing rows\n",
        "df = df.dropna(subset=[\"Score\", \"Text\"])"
      ],
      "metadata": {
        "id": "o_KcrPptHHwX"
      },
      "execution_count": null,
      "outputs": []
    },
    {
      "cell_type": "code",
      "source": [
        "# Keep only needed columns\n",
        "df = df.select(\"Score\", \"Text\")\n"
      ],
      "metadata": {
        "id": "jO44puF4Hf-x"
      },
      "execution_count": null,
      "outputs": []
    },
    {
      "cell_type": "code",
      "source": [
        "# Remove neutral reviews\n",
        "df = df.filter(df.Score != 3)"
      ],
      "metadata": {
        "id": "w2rH7C9HHl0F"
      },
      "execution_count": null,
      "outputs": []
    },
    {
      "cell_type": "code",
      "source": [
        "# Label: Positive if Score ≥ 4, else Negative\n",
        "from pyspark.sql.functions import when\n",
        "\n",
        "df = df.withColumn(\"Sentiment\", when(df.Score >= 4, \"Positive\").otherwise(\"Negative\"))\n",
        "\n",
        "df.show(5, truncate=100)"
      ],
      "metadata": {
        "colab": {
          "base_uri": "https://localhost:8080/"
        },
        "id": "QM3kjXBWHtKW",
        "outputId": "4b9d1052-6b26-42a9-fec8-bb393f33cbe0"
      },
      "execution_count": null,
      "outputs": [
        {
          "output_type": "stream",
          "name": "stdout",
          "text": [
            "+-----+----------------------------------------------------------------------------------------------------+---------+\n",
            "|Score|                                                                                                Text|Sentiment|\n",
            "+-----+----------------------------------------------------------------------------------------------------+---------+\n",
            "|    5|I have bought several of the Vitality canned dog food products and have found them all to be of g...| Positive|\n",
            "|    1|\"Product arrived labeled as Jumbo Salted Peanuts...the peanuts were actually small sized unsalted...| Negative|\n",
            "|    4|\"This is a confection that has been around a few centuries.  It is a light, pillowy citrus gelati...| Positive|\n",
            "|    2|If you are looking for the secret ingredient in Robitussin I believe I have found it.  I got this...| Negative|\n",
            "|    5|Great taffy at a great price.  There was a wide assortment of yummy taffy.  Delivery was very qui...| Positive|\n",
            "+-----+----------------------------------------------------------------------------------------------------+---------+\n",
            "only showing top 5 rows\n",
            "\n"
          ]
        }
      ]
    },
    {
      "cell_type": "code",
      "source": [
        "from pyspark.ml.feature import Tokenizer, StopWordsRemover, HashingTF, IDF, StringIndexer\n"
      ],
      "metadata": {
        "id": "-ywAvQ3MJLKS"
      },
      "execution_count": null,
      "outputs": []
    },
    {
      "cell_type": "code",
      "source": [
        "tokenizer = Tokenizer(inputCol=\"Text\", outputCol=\"Words\")\n",
        "wordsData = tokenizer.transform(df)\n"
      ],
      "metadata": {
        "id": "3mOGrvqKJM5v"
      },
      "execution_count": null,
      "outputs": []
    },
    {
      "cell_type": "code",
      "metadata": {
        "id": "2c4cadac"
      },
      "source": [
        "remover = StopWordsRemover(inputCol=\"Words\", outputCol=\"Filtered\")\n",
        "filteredData = remover.transform(wordsData)"
      ],
      "execution_count": null,
      "outputs": []
    },
    {
      "cell_type": "code",
      "source": [
        "hashingTF = HashingTF(inputCol=\"Filtered\", outputCol=\"RawFeatures\", numFeatures=10000)\n",
        "featurizedData = hashingTF.transform(filteredData)\n"
      ],
      "metadata": {
        "id": "ESRSBa7wJ_SG"
      },
      "execution_count": null,
      "outputs": []
    },
    {
      "cell_type": "code",
      "source": [
        "idf = IDF(inputCol=\"RawFeatures\", outputCol=\"Features\")\n",
        "idfModel = idf.fit(featurizedData)\n",
        "rescaledData = idfModel.transform(featurizedData)"
      ],
      "metadata": {
        "id": "WU7yueQTKb0A"
      },
      "execution_count": null,
      "outputs": []
    },
    {
      "cell_type": "code",
      "source": [
        "indexer = StringIndexer(inputCol=\"Sentiment\", outputCol=\"Label\")\n",
        "finalData = indexer.fit(rescaledData).transform(rescaledData)"
      ],
      "metadata": {
        "id": "ZehG6omMK1NV"
      },
      "execution_count": null,
      "outputs": []
    },
    {
      "cell_type": "code",
      "source": [
        "finalData.select(\"Text\", \"Sentiment\", \"Label\", \"Features\").show(5, truncate=100)\n"
      ],
      "metadata": {
        "colab": {
          "base_uri": "https://localhost:8080/"
        },
        "id": "bnJoeU07LNH1",
        "outputId": "742177d1-9170-4246-f10e-bd18f7cbfb65"
      },
      "execution_count": null,
      "outputs": [
        {
          "output_type": "stream",
          "name": "stdout",
          "text": [
            "+----------------------------------------------------------------------------------------------------+---------+-----+----------------------------------------------------------------------------------------------------+\n",
            "|                                                                                                Text|Sentiment|Label|                                                                                            Features|\n",
            "+----------------------------------------------------------------------------------------------------+---------+-----+----------------------------------------------------------------------------------------------------+\n",
            "|I have bought several of the Vitality canned dog food products and have found them all to be of g...| Positive|  0.0|(10000,[322,447,1599,2543,2589,3182,3218,3330,3372,3908,4646,5308,5741,6061,6168,6408,7078,8565,8...|\n",
            "|\"Product arrived labeled as Jumbo Salted Peanuts...the peanuts were actually small sized unsalted...| Negative|  1.0|(10000,[222,447,1821,1844,2207,2369,3758,3957,4042,4311,6447,6503,6782,7762,8578,8717,9104,9121],...|\n",
            "|\"This is a confection that has been around a few centuries.  It is a light, pillowy citrus gelati...| Positive|  0.0|(10000,[220,532,584,1152,1206,1238,1558,2600,2676,2736,2913,2995,3162,3372,3639,3657,3913,3982,41...|\n",
            "|If you are looking for the secret ingredient in Robitussin I believe I have found it.  I got this...| Negative|  1.0|(10000,[533,1653,2612,3250,3344,3357,3372,3892,4232,4526,5631,5734,6010,6061,6230,6820,7288,7805,...|\n",
            "|Great taffy at a great price.  There was a wide assortment of yummy taffy.  Delivery was very qui...| Positive|  0.0|(10000,[26,379,750,1670,2836,3372,6054,6344,7128,7994,9251,9470],[3.7544883120846717,6.5182592770...|\n",
            "+----------------------------------------------------------------------------------------------------+---------+-----+----------------------------------------------------------------------------------------------------+\n",
            "only showing top 5 rows\n",
            "\n"
          ]
        }
      ]
    },
    {
      "cell_type": "code",
      "source": [
        "train, test = finalData.randomSplit([0.8, 0.2], seed=42)\n"
      ],
      "metadata": {
        "id": "PTGjcMAkLh5w"
      },
      "execution_count": null,
      "outputs": []
    },
    {
      "cell_type": "code",
      "source": [
        "from pyspark.ml.classification import LogisticRegression\n"
      ],
      "metadata": {
        "id": "FOj8thb_LvU4"
      },
      "execution_count": null,
      "outputs": []
    },
    {
      "cell_type": "code",
      "source": [
        "lr = LogisticRegression(featuresCol=\"Features\", labelCol=\"Label\")\n",
        "model = lr.fit(train)\n",
        "predictions = model.transform(test)"
      ],
      "metadata": {
        "id": "qGL1uO62Lyke"
      },
      "execution_count": null,
      "outputs": []
    },
    {
      "cell_type": "code",
      "source": [
        "predictions.select(\"Text\", \"Sentiment\", \"prediction\", \"Label\").show(5, truncate=100)\n"
      ],
      "metadata": {
        "colab": {
          "base_uri": "https://localhost:8080/"
        },
        "id": "zA7LXcAAMwyE",
        "outputId": "b8ae091e-b706-4c3f-824d-0c523cb93fa2"
      },
      "execution_count": null,
      "outputs": [
        {
          "output_type": "stream",
          "name": "stdout",
          "text": [
            "+--------------------------------------+---------+----------+-----+\n",
            "|                                  Text|Sentiment|prediction|Label|\n",
            "+--------------------------------------+---------+----------+-----+\n",
            "|      \"It's \"\"natural\"\" for a reason.\"| Negative|       0.0|  1.0|\n",
            "|\"The Original \"\"egg cream\"\" must have\"| Negative|       0.0|  1.0|\n",
            "|                 100 calorie Cakesters| Negative|       0.0|  1.0|\n",
            "|                            1168214400| Negative|       0.0|  1.0|\n",
            "|                            1213401600| Negative|       0.0|  1.0|\n",
            "+--------------------------------------+---------+----------+-----+\n",
            "only showing top 5 rows\n",
            "\n"
          ]
        }
      ]
    },
    {
      "cell_type": "code",
      "source": [
        "from pyspark.ml.evaluation import MulticlassClassificationEvaluator\n"
      ],
      "metadata": {
        "id": "ycDbZY97NyD_"
      },
      "execution_count": null,
      "outputs": []
    },
    {
      "cell_type": "code",
      "source": [
        "evaluator = MulticlassClassificationEvaluator(\n",
        "    labelCol=\"Label\",\n",
        "    predictionCol=\"prediction\",\n",
        "    metricName=\"accuracy\"\n",
        ")\n"
      ],
      "metadata": {
        "id": "xF96QfhQOJ7d"
      },
      "execution_count": null,
      "outputs": []
    },
    {
      "cell_type": "code",
      "source": [
        "accuracy = evaluator.evaluate(predictions)\n",
        "print(f\"Model Accuracy: {accuracy:.2f}\")"
      ],
      "metadata": {
        "colab": {
          "base_uri": "https://localhost:8080/"
        },
        "id": "O0uljSmUOVr4",
        "outputId": "c4745a13-dbd9-4510-8199-232551cec7ac"
      },
      "execution_count": null,
      "outputs": [
        {
          "output_type": "stream",
          "name": "stdout",
          "text": [
            "Model Accuracy: 0.91\n"
          ]
        }
      ]
    },
    {
      "cell_type": "code",
      "source": [
        "f1 = evaluator.setMetricName(\"f1\").evaluate(predictions)\n",
        "precision = evaluator.setMetricName(\"weightedPrecision\").evaluate(predictions)\n",
        "recall = evaluator.setMetricName(\"weightedRecall\").evaluate(predictions)\n",
        "\n",
        "print(f\"F1 Score: {f1:.2f}\")\n",
        "print(f\"Precision: {precision:.2f}\")\n",
        "print(f\"Recall: {recall:.2f}\")\n"
      ],
      "metadata": {
        "colab": {
          "base_uri": "https://localhost:8080/"
        },
        "id": "oRgrJ-HEOrs7",
        "outputId": "89dbdec9-c32b-46b1-89e0-4623a236a5cd"
      },
      "execution_count": null,
      "outputs": [
        {
          "output_type": "stream",
          "name": "stdout",
          "text": [
            "F1 Score: 0.91\n",
            "Precision: 0.91\n",
            "Recall: 0.91\n"
          ]
        }
      ]
    },
    {
      "cell_type": "code",
      "source": [
        "model.save(\"/content/drive/MyDrive/sentiment_model\")\n",
        "finalData.write.parquet(\"/content/drive/MyDrive/sentiment_final.parquet\")\n"
      ],
      "metadata": {
        "id": "EAcgVlpdQk2p"
      },
      "execution_count": null,
      "outputs": []
    },
    {
      "cell_type": "code",
      "source": [
        "predictions = model.transform(test)\n",
        "predictions.select(\"Text\", \"prediction\", \"probability\").show(10, truncate=100)"
      ],
      "metadata": {
        "colab": {
          "base_uri": "https://localhost:8080/"
        },
        "id": "iqNw0yHiaUX6",
        "outputId": "c44a940e-a6fb-48bb-d8e2-47ebb67e34fe"
      },
      "execution_count": null,
      "outputs": [
        {
          "output_type": "stream",
          "name": "stdout",
          "text": [
            "+--------------------------------------+----------+----------------------------------------+\n",
            "|                                  Text|prediction|                             probability|\n",
            "+--------------------------------------+----------+----------------------------------------+\n",
            "|      \"It's \"\"natural\"\" for a reason.\"|       0.0|[0.7012153742732273,0.29878462572677267]|\n",
            "|\"The Original \"\"egg cream\"\" must have\"|       0.0| [0.7672211467192701,0.2327788532807299]|\n",
            "|                 100 calorie Cakesters|       0.0| [0.6767017581253211,0.3232982418746789]|\n",
            "|                            1168214400|       0.0|[0.8747353086416834,0.12526469135831664]|\n",
            "|                            1213401600|       0.0| [0.692374476415418,0.30762552358458195]|\n",
            "|                            1228348800|       0.0|[0.5451002574544204,0.45489974254557963]|\n",
            "|                            1235779200|       0.0| [0.6368936795708957,0.3631063204291043]|\n",
            "|                            1245888000|       0.0| [0.7054410944204361,0.2945589055795639]|\n",
            "|                            1292371200|       0.0|[0.8468875333283233,0.15311246667167666]|\n",
            "|                            1292371200|       0.0|[0.8468875333283233,0.15311246667167666]|\n",
            "+--------------------------------------+----------+----------------------------------------+\n",
            "only showing top 10 rows\n",
            "\n"
          ]
        }
      ]
    },
    {
      "cell_type": "code",
      "source": [
        "# Re-split the data\n",
        "train_data, test_data = df.randomSplit([0.8, 0.2], seed=42)"
      ],
      "metadata": {
        "id": "ZZ8YeMBWaeqy"
      },
      "execution_count": null,
      "outputs": []
    },
    {
      "cell_type": "code",
      "source": [
        "predictions = model.transform(test)"
      ],
      "metadata": {
        "id": "XWOI9EpXbH8T"
      },
      "execution_count": null,
      "outputs": []
    },
    {
      "cell_type": "code",
      "source": [
        "predictions.select(\"Text\", \"prediction\", \"probability\").show(10, truncate=100)\n"
      ],
      "metadata": {
        "colab": {
          "base_uri": "https://localhost:8080/"
        },
        "id": "tEfTJ5Ssbl9W",
        "outputId": "b8bf9c37-8833-4819-9ba1-9f97c66ec8e7"
      },
      "execution_count": null,
      "outputs": [
        {
          "output_type": "stream",
          "name": "stdout",
          "text": [
            "+--------------------------------------+----------+----------------------------------------+\n",
            "|                                  Text|prediction|                             probability|\n",
            "+--------------------------------------+----------+----------------------------------------+\n",
            "|      \"It's \"\"natural\"\" for a reason.\"|       0.0|[0.7012153742732273,0.29878462572677267]|\n",
            "|\"The Original \"\"egg cream\"\" must have\"|       0.0| [0.7672211467192701,0.2327788532807299]|\n",
            "|                 100 calorie Cakesters|       0.0| [0.6767017581253211,0.3232982418746789]|\n",
            "|                            1168214400|       0.0|[0.8747353086416834,0.12526469135831664]|\n",
            "|                            1213401600|       0.0| [0.692374476415418,0.30762552358458195]|\n",
            "|                            1228348800|       0.0|[0.5451002574544204,0.45489974254557963]|\n",
            "|                            1235779200|       0.0| [0.6368936795708957,0.3631063204291043]|\n",
            "|                            1245888000|       0.0| [0.7054410944204361,0.2945589055795639]|\n",
            "|                            1292371200|       0.0|[0.8468875333283233,0.15311246667167666]|\n",
            "|                            1292371200|       0.0|[0.8468875333283233,0.15311246667167666]|\n",
            "+--------------------------------------+----------+----------------------------------------+\n",
            "only showing top 10 rows\n",
            "\n"
          ]
        }
      ]
    },
    {
      "cell_type": "code",
      "source": [
        "predictions = model.transform(test)\n"
      ],
      "metadata": {
        "id": "sc-vhTTjcTuZ"
      },
      "execution_count": null,
      "outputs": []
    },
    {
      "cell_type": "code",
      "source": [
        "# Convert selected columns to Pandas and save to CSV\n",
        "predictions.select(\"Text\", \"prediction\").toPandas().to_csv(\"/content/sentiment_predictions.csv\", index=False)"
      ],
      "metadata": {
        "id": "9IUc-B6Zcim4"
      },
      "execution_count": null,
      "outputs": []
    },
    {
      "cell_type": "code",
      "source": [
        "from google.colab import files\n",
        "files.download(\"/content/sentiment_predictions.csv\")\n"
      ],
      "metadata": {
        "colab": {
          "base_uri": "https://localhost:8080/",
          "height": 17
        },
        "id": "MGpwFd5pdFs7",
        "outputId": "02cc5ab4-542e-4a8e-9029-32af59a71d3d"
      },
      "execution_count": null,
      "outputs": [
        {
          "output_type": "display_data",
          "data": {
            "text/plain": [
              "<IPython.core.display.Javascript object>"
            ],
            "application/javascript": [
              "\n",
              "    async function download(id, filename, size) {\n",
              "      if (!google.colab.kernel.accessAllowed) {\n",
              "        return;\n",
              "      }\n",
              "      const div = document.createElement('div');\n",
              "      const label = document.createElement('label');\n",
              "      label.textContent = `Downloading \"${filename}\": `;\n",
              "      div.appendChild(label);\n",
              "      const progress = document.createElement('progress');\n",
              "      progress.max = size;\n",
              "      div.appendChild(progress);\n",
              "      document.body.appendChild(div);\n",
              "\n",
              "      const buffers = [];\n",
              "      let downloaded = 0;\n",
              "\n",
              "      const channel = await google.colab.kernel.comms.open(id);\n",
              "      // Send a message to notify the kernel that we're ready.\n",
              "      channel.send({})\n",
              "\n",
              "      for await (const message of channel.messages) {\n",
              "        // Send a message to notify the kernel that we're ready.\n",
              "        channel.send({})\n",
              "        if (message.buffers) {\n",
              "          for (const buffer of message.buffers) {\n",
              "            buffers.push(buffer);\n",
              "            downloaded += buffer.byteLength;\n",
              "            progress.value = downloaded;\n",
              "          }\n",
              "        }\n",
              "      }\n",
              "      const blob = new Blob(buffers, {type: 'application/binary'});\n",
              "      const a = document.createElement('a');\n",
              "      a.href = window.URL.createObjectURL(blob);\n",
              "      a.download = filename;\n",
              "      div.appendChild(a);\n",
              "      a.click();\n",
              "      div.remove();\n",
              "    }\n",
              "  "
            ]
          },
          "metadata": {}
        },
        {
          "output_type": "display_data",
          "data": {
            "text/plain": [
              "<IPython.core.display.Javascript object>"
            ],
            "application/javascript": [
              "download(\"download_026282ef-7a1e-447b-a45b-596566061f4b\", \"sentiment_predictions.csv\", 39909196)"
            ]
          },
          "metadata": {}
        }
      ]
    },
    {
      "cell_type": "code",
      "source": [
        "!ls \"/content/drive/MyDrive/Colab Notebooks/GitHubProjects/pyspark-sentiment-analysis/model\"\n"
      ],
      "metadata": {
        "colab": {
          "base_uri": "https://localhost:8080/"
        },
        "id": "WZbS5LRYhLmw",
        "outputId": "d6ac8d2d-d5b0-4ebf-9654-0a7d1aa52f60"
      },
      "execution_count": null,
      "outputs": [
        {
          "output_type": "stream",
          "name": "stdout",
          "text": [
            "ls: cannot access '/content/drive/MyDrive/Colab Notebooks/GitHubProjects/pyspark-sentiment-analysis/model': No such file or directory\n"
          ]
        }
      ]
    },
    {
      "cell_type": "code",
      "source": [
        "!mv \"/content/drive/MyDrive/sentiment_modeL\" \"/content/drive/MyDrive/Colab Notebooks/GitHubProjects/pyspark-sentiment-analysis/model/\"\n"
      ],
      "metadata": {
        "colab": {
          "base_uri": "https://localhost:8080/"
        },
        "id": "3nyIslZ2hn5P",
        "outputId": "88fc7180-55d3-430a-ceed-eca9e162ab1e"
      },
      "execution_count": null,
      "outputs": [
        {
          "output_type": "stream",
          "name": "stdout",
          "text": [
            "mv: cannot stat '/content/drive/MyDrive/sentiment_modeL': No such file or directory\n"
          ]
        }
      ]
    },
    {
      "cell_type": "code",
      "source": [
        "!find /content/drive/MyDrive -type d -iname \"*sentiment*\"\n"
      ],
      "metadata": {
        "colab": {
          "base_uri": "https://localhost:8080/"
        },
        "id": "BNElMdgyhzM3",
        "outputId": "193fd28d-fc8e-466d-c73d-e49600429bbc"
      },
      "execution_count": null,
      "outputs": [
        {
          "output_type": "stream",
          "name": "stdout",
          "text": [
            "/content/drive/MyDrive/Colab Notebooks/GitHubProjects/pyspark-sentiment-analysis\n",
            "/content/drive/MyDrive/sentiment_model\n",
            "/content/drive/MyDrive/sentiment_final.parquet\n"
          ]
        }
      ]
    },
    {
      "cell_type": "code",
      "source": [
        "!mv \"/content/drive/MyDrive/sentiment_modeL\" \"/content/drive/MyDrive/Colab Notebooks/GitHubProjects/pyspark-sentiment-analysis/model/\"\n"
      ],
      "metadata": {
        "colab": {
          "base_uri": "https://localhost:8080/"
        },
        "id": "MdfZGkjAiB3W",
        "outputId": "3d109494-2056-43dc-9050-9403c748da2b"
      },
      "execution_count": null,
      "outputs": [
        {
          "output_type": "stream",
          "name": "stdout",
          "text": [
            "mv: cannot stat '/content/drive/MyDrive/sentiment_modeL': No such file or directory\n"
          ]
        }
      ]
    },
    {
      "cell_type": "code",
      "source": [
        "!find /content/drive/MyDrive -type d -iname \"*modeL*\"\n"
      ],
      "metadata": {
        "colab": {
          "base_uri": "https://localhost:8080/"
        },
        "id": "VWqSiNCRiPJX",
        "outputId": "b2df4f7b-c34b-4adb-f0d9-d2774ae5d627"
      },
      "execution_count": null,
      "outputs": [
        {
          "output_type": "stream",
          "name": "stdout",
          "text": [
            "/content/drive/MyDrive/sentiment_model\n"
          ]
        }
      ]
    },
    {
      "cell_type": "code",
      "source": [
        "!mv \"/content/drive/MyDrive/sentiment_model\" \"/content/drive/MyDrive/Colab Notebooks/GitHubProjects/pyspark-sentiment-analysis/model/\"\n"
      ],
      "metadata": {
        "id": "Pxuni8tuiXRs"
      },
      "execution_count": null,
      "outputs": []
    },
    {
      "cell_type": "code",
      "source": [
        "# ✅ Step 1: Zip the model folder\n",
        "!zip -r \"/content/sentiment_mode.zip\" \"/content/drive/MyDrive/Colab Notebooks/GitHubProjects/pyspark-sentiment-analysis/model/sentiment_mode"
      ],
      "metadata": {
        "colab": {
          "base_uri": "https://localhost:8080/"
        },
        "id": "K9BA1bxzlbyS",
        "outputId": "d5644566-54bd-4919-911f-e624175cf3c3"
      },
      "execution_count": null,
      "outputs": [
        {
          "output_type": "stream",
          "name": "stdout",
          "text": [
            "/bin/bash: -c: line 1: unexpected EOF while looking for matching `\"'\n",
            "/bin/bash: -c: line 2: syntax error: unexpected end of file\n"
          ]
        }
      ]
    },
    {
      "cell_type": "code",
      "source": [
        "!zip -r \"/content/model.zip\" \"/content/drive/MyDrive/Colab Notebooks/GitHubProjects/pyspark-sentiment-analysis/model\"\n"
      ],
      "metadata": {
        "colab": {
          "base_uri": "https://localhost:8080/"
        },
        "id": "JSlWEsFOnpwk",
        "outputId": "afd8a612-3916-4b4c-aa06-e4002d7d56d1"
      },
      "execution_count": null,
      "outputs": [
        {
          "output_type": "stream",
          "name": "stdout",
          "text": [
            "  adding: content/drive/MyDrive/Colab Notebooks/GitHubProjects/pyspark-sentiment-analysis/model/ (stored 0%)\n",
            "  adding: content/drive/MyDrive/Colab Notebooks/GitHubProjects/pyspark-sentiment-analysis/model/metadata/ (stored 0%)\n",
            "  adding: content/drive/MyDrive/Colab Notebooks/GitHubProjects/pyspark-sentiment-analysis/model/metadata/part-00000 (deflated 43%)\n",
            "  adding: content/drive/MyDrive/Colab Notebooks/GitHubProjects/pyspark-sentiment-analysis/model/metadata/.part-00000.crc (stored 0%)\n",
            "  adding: content/drive/MyDrive/Colab Notebooks/GitHubProjects/pyspark-sentiment-analysis/model/metadata/_SUCCESS (stored 0%)\n",
            "  adding: content/drive/MyDrive/Colab Notebooks/GitHubProjects/pyspark-sentiment-analysis/model/metadata/._SUCCESS.crc (stored 0%)\n",
            "  adding: content/drive/MyDrive/Colab Notebooks/GitHubProjects/pyspark-sentiment-analysis/model/data/ (stored 0%)\n",
            "  adding: content/drive/MyDrive/Colab Notebooks/GitHubProjects/pyspark-sentiment-analysis/model/data/part-00000-2b79077d-6bea-4726-a828-dd12bb78d32a-c000.snappy.parquet (deflated 8%)\n",
            "  adding: content/drive/MyDrive/Colab Notebooks/GitHubProjects/pyspark-sentiment-analysis/model/data/.part-00000-2b79077d-6bea-4726-a828-dd12bb78d32a-c000.snappy.parquet.crc (stored 0%)\n",
            "  adding: content/drive/MyDrive/Colab Notebooks/GitHubProjects/pyspark-sentiment-analysis/model/data/_SUCCESS (stored 0%)\n",
            "  adding: content/drive/MyDrive/Colab Notebooks/GitHubProjects/pyspark-sentiment-analysis/model/data/._SUCCESS.crc (stored 0%)\n"
          ]
        }
      ]
    },
    {
      "cell_type": "code",
      "source": [
        "from google.colab import files\n",
        "files.download(\"/content/model.zip\")"
      ],
      "metadata": {
        "colab": {
          "base_uri": "https://localhost:8080/",
          "height": 17
        },
        "id": "bE_k9WhMp88Y",
        "outputId": "f5df5430-23df-49bd-ecbc-0c4e9a5338d1"
      },
      "execution_count": null,
      "outputs": [
        {
          "output_type": "display_data",
          "data": {
            "text/plain": [
              "<IPython.core.display.Javascript object>"
            ],
            "application/javascript": [
              "\n",
              "    async function download(id, filename, size) {\n",
              "      if (!google.colab.kernel.accessAllowed) {\n",
              "        return;\n",
              "      }\n",
              "      const div = document.createElement('div');\n",
              "      const label = document.createElement('label');\n",
              "      label.textContent = `Downloading \"${filename}\": `;\n",
              "      div.appendChild(label);\n",
              "      const progress = document.createElement('progress');\n",
              "      progress.max = size;\n",
              "      div.appendChild(progress);\n",
              "      document.body.appendChild(div);\n",
              "\n",
              "      const buffers = [];\n",
              "      let downloaded = 0;\n",
              "\n",
              "      const channel = await google.colab.kernel.comms.open(id);\n",
              "      // Send a message to notify the kernel that we're ready.\n",
              "      channel.send({})\n",
              "\n",
              "      for await (const message of channel.messages) {\n",
              "        // Send a message to notify the kernel that we're ready.\n",
              "        channel.send({})\n",
              "        if (message.buffers) {\n",
              "          for (const buffer of message.buffers) {\n",
              "            buffers.push(buffer);\n",
              "            downloaded += buffer.byteLength;\n",
              "            progress.value = downloaded;\n",
              "          }\n",
              "        }\n",
              "      }\n",
              "      const blob = new Blob(buffers, {type: 'application/binary'});\n",
              "      const a = document.createElement('a');\n",
              "      a.href = window.URL.createObjectURL(blob);\n",
              "      a.download = filename;\n",
              "      div.appendChild(a);\n",
              "      a.click();\n",
              "      div.remove();\n",
              "    }\n",
              "  "
            ]
          },
          "metadata": {}
        },
        {
          "output_type": "display_data",
          "data": {
            "text/plain": [
              "<IPython.core.display.Javascript object>"
            ],
            "application/javascript": [
              "download(\"download_37e4f520-8a76-444e-9138-5764f8b23735\", \"model.zip\", 83146)"
            ]
          },
          "metadata": {}
        }
      ]
    }
  ]
}